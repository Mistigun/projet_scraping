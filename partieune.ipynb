{
 "cells": [
  {
   "cell_type": "code",
   "execution_count": null,
   "id": "5e61eea6",
   "metadata": {},
   "outputs": [],
   "source": [
    "import requests\n",
    "import pandas as pd\n",
    "from scrapy import Selector\n",
    "from urllib.parse import urljoin\n",
    "\n",
    "\n",
    "url= \"https://books.toscrape.com/\"\n",
    "response = requests.get(url)\n",
    "html = response.text\n",
    "#print(html)\n",
    "\n",
    "DELAY = 0.2\n",
    "TIMEOUT = 20 \n",
    "print(f\"OK : {url}\")\n",
    "\n",
    "sel = Selector(text=response.text)\n",
    "titles = sel.css('article.product_pod h3 a::attr(title)').getall()[0]\n",
    "print(titles)\n",
    "\n",
    "\n",
    "prices = sel.css('article.product_pod p.price_color::text').getall()[0]\n",
    "print(prices)\n",
    "\n",
    "stocks = sel.css('article.product_pod p.instock.availability::text').getall()\n",
    "print(stocks)\n",
    "\n",
    "\n",
    "\n",
    "url_2= \"https://books.toscrape.com/catalogue/a-light-in-the-attic_1000/index.html\"\n",
    "response_2 = requests.get(url_2)\n",
    "html = response_2.text\n",
    "\n",
    "sel_book = Selector(text=response_2.text)\n",
    "price_stock = sel_book.css(\"p.instock.availability::text\").getall()\n",
    "stocks = [s.strip() for s in price_stock if s.strip()]\n",
    "print(stocks)\n",
    "\n",
    "rating = sel_book.css(\"p.star-rating.Three::attr(class)\").getall()\n",
    "print(rating)\n",
    "\n",
    "upc = sel_book.css(\"table.table.table-striped tr:nth-child(1) td::text\").getall ()\n",
    "print(upc)\n",
    "\n",
    "url_image = sel_book.css(\"div.item.active img::attr(src)\").get()\n",
    "imageurl = urljoin(url, url_image)\n",
    "print(imageurl)\n",
    "\n",
    "\n",
    "\n"
   ]
  }
 ],
 "metadata": {
  "language_info": {
   "name": "python"
  }
 },
 "nbformat": 4,
 "nbformat_minor": 5
}
